{
  "nbformat": 4,
  "nbformat_minor": 0,
  "metadata": {
    "colab": {
      "name": "DecisionTreeFromScratch.ipynb",
      "provenance": [],
      "authorship_tag": "ABX9TyOcwZFgtZY2PH9p77mfntxl",
      "include_colab_link": true
    },
    "kernelspec": {
      "name": "python3",
      "display_name": "Python 3"
    },
    "language_info": {
      "name": "python"
    }
  },
  "cells": [
    {
      "cell_type": "markdown",
      "metadata": {
        "id": "view-in-github",
        "colab_type": "text"
      },
      "source": [
        "<a href=\"https://colab.research.google.com/github/afrojaakter/Popular-ML-Algorithms/blob/main/DecisionTreeFromScratch.ipynb\" target=\"_parent\"><img src=\"https://colab.research.google.com/assets/colab-badge.svg\" alt=\"Open In Colab\"/></a>"
      ]
    },
    {
      "cell_type": "markdown",
      "metadata": {
        "id": "LRgjqgk52ZjN"
      },
      "source": [
        "###Decision Tree Classification Algorithm\n",
        "- Decision Tree is a non-parametric supervised learning algorithm mostly used for classification problem but it can be used for regression problems  as well.\n",
        "- It is a tree structured classifier, where internal nodes (decision node) represent the features of a dataset, branches represent the decision rules and each leaf node represents the outcome. \n",
        "- Because of its similarity to a tree, it is called decision tree where, it starts with the root node, which expands on further branches and constructs a tree-like structure.\n",
        "- We use **CART (Classification and Regression Tree)** algorithm in order to build a tree.\n",
        "- A decision tree simply asks a yes/no question and based on that it further splits the tree into subtrees. \n",
        "\n",
        "\n",
        "#### Decision Tree Terminologies\n",
        "- Root Node: Root node is from where the decision tree starts. It represents the entire dataset, which further gets divided into two or more homogeneous sets.\n",
        "- Leaf Node: Leaf nodes are the final output node, and the tree cannot be segregated further after getting a leaf node.\n",
        "- Splitting: Splitting is the process of dividing the decision node/root node into sub-nodes according to the given conditions.\n",
        "- Branch/Sub Tree: A tree formed by splitting the tree.\n",
        "- Pruning: Pruning is the process of removing the unwanted branches from the tree.\n",
        "- Parent/Child node: The root node of the tree is called the parent node, and other nodes are called the child nodes.\n",
        "\n",
        "####How does the Decision Tree algorithm Work?\n",
        "- Step-1: Begin the tree with the root node, says S, which contains the complete dataset.\n",
        "-nStep-2: Find the best attribute in the dataset using Attribute Selection Measure (ASM).\n",
        "-nStep-3: Divide the S into subsets that contains possible values for the best attributes.\n",
        "-nStep-4: Generate the decision tree node, which contains the best attribute.\n",
        "-nStep-5: Recursively make new decision trees using the subsets of the dataset created in step -3. Continue this process until a stage is reached where you cannot further classify the nodes and called the final node as a leaf node.\n",
        "\n",
        "**Example:** Suppose there is a candidate who has a job offer and wants to decide whether he should accept the offer or Not. So, to solve this problem, the decision tree starts with the root node (Salary attribute by ASM). The root node splits further into the next decision node (distance from the office) and one leaf node based on the corresponding labels. The next decision node further gets split into one decision node (Cab facility) and one leaf node. Finally, the decision node splits into two leaf nodes (Accepted offers and Declined offer). Consider the below diagram:"
      ]
    },
    {
      "cell_type": "markdown",
      "metadata": {
        "id": "9LuAvx7w5_BF"
      },
      "source": [
        "![image.png](data:image/png;base64,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)"
      ]
    },
    {
      "cell_type": "markdown",
      "metadata": {
        "id": "frYaQTed8_Tr"
      },
      "source": [
        "####Attribute Selection Measures\n",
        "\n",
        "While implementing a Decision tree, the main issue arises that how to select the best attribute for the root node and for sub-nodes. So, to solve such problems there is a technique which is called as Attribute selection measure or ASM. By this measurement, we can easily select the best attribute for the nodes of the tree. There are two popular techniques for ASM, which are:\n",
        "\n",
        "- Information Gain\n",
        "- Gini Index\n",
        "\n",
        "**Information Gain:**\n",
        "\n",
        "- Information gain is the measurement of changes in entropy after the segmentation of a dataset based on an attribute.\n",
        "- It calculates how much information a feature provides us about a class.\n",
        "- According to the value of information gain, we split the node and build the decision tree.\n",
        "- A decision tree algorithm always tries to maximize the value of information gain, and a node/attribute having the highest information gain is split first. It can be calculated using the below formula:\n",
        "\n",
        "Information Gain = Entropy(S) - Weighted Avg*Entropy(each feature)\n",
        "\n",
        "**Entropy:**\n",
        "$Entropy(s)= -P(yes)log2 P(yes)- P(no) log2 P(no)$\n",
        "\n",
        "Where,\n",
        "- S= Total number of samples\n",
        "- P(yes)= probability of yes\n",
        "- P(no)= probability of no\n"
      ]
    },
    {
      "cell_type": "markdown",
      "metadata": {
        "id": "kU1OTdSrVZ7b"
      },
      "source": [
        "\n",
        "**Gini Index:**\n",
        "\n",
        "Suppose we have two classes in the dataset:\n",
        "\n",
        "$$k_{1}, k_{2}$$\n",
        "\n",
        "Each of the classes have $n_{1}$ and $n_{2}$ observations.\n",
        "\n",
        "The probability of observing something from one of the $k$ classes is:\n",
        "\n",
        "$$p(i) = P(x_{i} \\in k_{i}) = \\dfrac{n_{i}}{n_{1} + n_{2}},  i \\in \\{1, 2\\}$$\n",
        "The GINI impurity of such a system is calculated with the following formula:\n",
        "\n",
        "$$G = 1 - \\Sigma_{i=1}^{2}p(i)^{2}$$\n",
        "\n",
        "\n",
        "- Gini index is a measure of impurity used while creating a CART algorithm\n",
        "- An attribute with low Gini index should be preferred.\n",
        "- Gini index only creates a binary splits to the dataset.\n"
      ]
    },
    {
      "cell_type": "markdown",
      "metadata": {
        "id": "IbEWvcQJ61mK"
      },
      "source": [
        "Some advantages of decision trees are:\n",
        "\n",
        "- Simple to understand and easy to interpret. Trees can be visualised.\n",
        "\n",
        "- Requires little data preparation. Note however that this module does not support missing values.\n",
        "\n",
        "- Able to handle both numerical and categorical data. \n",
        "\n",
        "- Able to handle multi-output problems.\n",
        "\n",
        "The disadvantages of decision trees include:\n",
        "\n",
        "- Decision-tree learners can create over-complex trees that do not generalise the data well. This is called overfitting. Mechanisms such as pruning, setting the minimum number of samples required at a leaf node or setting the maximum depth of the tree are necessary to avoid this problem.\n",
        "\n",
        "- Decision trees can be unstable because small variations in the data might result in a completely different tree being generated. This problem is mitigated by using decision trees within an ensemble.\n",
        "\n",
        "- Decision tree learners create biased trees if some classes dominate. It is therefore recommended to balance the dataset prior to fitting with the decision tree."
      ]
    },
    {
      "cell_type": "markdown",
      "metadata": {
        "id": "PPyEbf41bQTW"
      },
      "source": [
        ""
      ]
    },
    {
      "cell_type": "code",
      "metadata": {
        "id": "2FQ9L7SDZm5w"
      },
      "source": [
        "import pandas as pd\n",
        "import numpy as np\n",
        "\n",
        "#Quick value counter\n",
        "from collections import Counter\n",
        "\n",
        "class Node:\n",
        "  '''Each node has the following main attributes:\n",
        "      Gini impurity score\n",
        "      Number of observations\n",
        "      The number of observations belonging to each of the binary target classes.\n",
        "      The feature matrix X representing the observations that fall into the node.\n",
        "'''\n",
        "  def __init__(self, Y: list, X: pd.DataFrame, min_sample_split=None,\n",
        "               max_depth=None, depth=None, node_type=None,rule=None):\n",
        "    #Saving the data to the node\n",
        "    self.Y = Y\n",
        "    self.X = X\n",
        "\n",
        "    #Saving the hyper-parameters\n",
        "    self.min_sample_split = min_sample_split if min_sample_split else 20\n",
        "    self.max_depth = max_depth if max_depth else 5\n",
        "\n",
        "    # Default current depnth of the node\n",
        "    self.depth = depth if depth else 0\n",
        "\n",
        "    #Extracting all features\n",
        "    self.features = list(self.X.columns)\n",
        "\n",
        "    #Type of node\n",
        "    self.node_type = node_type if node_type else 'root'\n",
        "\n",
        "    # Rule for spliting\n",
        "    self.rule = rule if rule else \"\"\n",
        "    # Calculating the counts of Y in the node\n",
        "    self.counts = Counter(Y)\n",
        "\n",
        "    # Getting the GINI inpurity based on the Y distribution\n",
        "    self.gini_impurith = self.get_GINI()\n",
        "\n",
        "    # Sorting the counts and saving the final prediction of the node\n",
        "    counts_sorted = list(sorted(self.counts.items(), keys=lambda item: item[1]))\n"
      ],
      "execution_count": null,
      "outputs": []
    }
  ]
}