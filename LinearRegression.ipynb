{
  "nbformat": 4,
  "nbformat_minor": 0,
  "metadata": {
    "colab": {
      "name": "LinearRegression.ipynb",
      "provenance": [],
      "authorship_tag": "ABX9TyMPTGtw7YNmq5PHXNCgLBFI",
      "include_colab_link": true
    },
    "kernelspec": {
      "name": "python3",
      "display_name": "Python 3"
    },
    "language_info": {
      "name": "python"
    }
  },
  "cells": [
    {
      "cell_type": "markdown",
      "metadata": {
        "id": "view-in-github",
        "colab_type": "text"
      },
      "source": [
        "<a href=\"https://colab.research.google.com/github/afrojaakter/Popular-ML-Algorithms/blob/main/LinearRegression.ipynb\" target=\"_parent\"><img src=\"https://colab.research.google.com/assets/colab-badge.svg\" alt=\"Open In Colab\"/></a>"
      ]
    },
    {
      "cell_type": "markdown",
      "source": [
        "### Linear Regresssion implementation in python from scratch\n",
        "\n",
        "It is a supervised learning algorithm used to predict real-valued output y ( target) base on the given input value x (features). \n",
        "\n",
        "``` \n",
        "h(x) = w*x + b \n",
        "w =  weights\n",
        "x = feature\n",
        "b = bias\n",
        "```\n",
        "\n",
        "The cost function is the error between the expected and predicted values, used to measure the performance of a machine learning model.\n",
        "For Linear Regression, the cost function is,\n",
        "\n",
        "$$ J = \\frac{1}{m} \\sum_{i = 1}^{m} (y_i - h(x_i))^2 = \\frac{1}{m} \\sum_{i = 1}^{m} (y_i - (w*x_i + b))^2$$\n",
        "```\n",
        "Here, m = total number of training examples\n",
        "x_i = i-th training example and y_i is the target value of i-th training example```\n",
        "\n",
        "Out goal is to minimize the cost function J. To find the minimum loss/cost funciton we need to find the weights where J is minimum and we can use Gradient Descent algorithm to find the minimum of the cost function.\n",
        "\n",
        "**Gradient Descent:**\n",
        "1. Start with some random w\n",
        "2. Keep changing w to reduce J(w) until we reached the expected minimum value.\n",
        "\n",
        "\n"
      ],
      "metadata": {
        "id": "PeEluOGAG9Gv"
      }
    },
    {
      "cell_type": "code",
      "source": [
        "import numpy as np\n",
        "import pandas as pd\n",
        "from sklearn.model_selection import train_test_split\n",
        "import matplotlib.pyplot as plt\n",
        "\n",
        "class LinearRegression():\n",
        "  def __init__(self,  learning_rate, iterations):\n",
        "    self.learning_rate = learning_rate\n",
        "    self.iterations = iterations\n",
        "  \n",
        "  # Training\n",
        "  def fit(self, X, y):\n",
        "    # number of training examples and number of features\n",
        "    self.m, self.n = X.shape\n",
        "    \n",
        "    #weight initialization\n",
        "    self.W = np.zeros(self.n)\n",
        "    self.b = 0\n",
        "\n",
        "    self.X = X\n",
        "    self.y = y \n",
        "    \n",
        "    # gradient descent\n",
        "    for i in range(self.iterations):\n",
        "      self.update_weights()\n",
        "    return self\n",
        "\n",
        "  def update_weights(self):\n",
        "    y_pred = self.predict(self.X)\n",
        "\n",
        "    #calculate gradients\n",
        "    dJdW = - (2*(self.X.T).dot(self.y - y_pred)) / self.m\n",
        "    dJdb = - 2*np.sum(self.y - y_pred) /self.m\n",
        "\n",
        "    #update weights\n",
        "    self.W = self.W - self.learning_rate * dJdW\n",
        "    self.b = self.b - self.learning_rate * dJdb\n",
        "    return self\n",
        "  \n",
        "  def predict(self, X):\n",
        "    return X.dot(self.W) + self.b\n",
        "\n",
        "#driver code\n",
        "def main():\n",
        "  #import dataset\n",
        "  df = pd.read_csv('')\n",
        "  X = df.iloc[:,:-1].values\n",
        "  y = df.iloc[:,1].values\n",
        "\n",
        "  \n"
      ],
      "metadata": {
        "colab": {
          "base_uri": "https://localhost:8080/",
          "height": 135
        },
        "id": "ADr9ywJQMhOu",
        "outputId": "170978e2-f51e-42f4-d76c-7a0ea5889e3d"
      },
      "execution_count": 72,
      "outputs": [
        {
          "output_type": "error",
          "ename": "SyntaxError",
          "evalue": "ignored",
          "traceback": [
            "\u001b[0;36m  File \u001b[0;32m\"<ipython-input-72-7b4efe1588e4>\"\u001b[0;36m, line \u001b[0;32m7\u001b[0m\n\u001b[0;31m    def __init_\u001b[0m\n\u001b[0m               ^\u001b[0m\n\u001b[0;31mSyntaxError\u001b[0m\u001b[0;31m:\u001b[0m invalid syntax\n"
          ]
        }
      ]
    },
    {
      "cell_type": "code",
      "execution_count": null,
      "metadata": {
        "id": "lvbx9-61Tqcm"
      },
      "outputs": [],
      "source": [
        "import numpy as np\n",
        "from numpy import array\n",
        "from numpy.linalg import inv\n",
        "import matplotlib.pyplot as plt\n",
        "\n",
        "class LinearRegression():\n",
        "  def __init__(self):\n",
        "    self.coef = None\n",
        "    self.pred = None\n",
        "  \n",
        "  def fit(self, Xtrain, ytrain):\n",
        "    ''' Fit the model coefficients\n",
        "    arguments:\n",
        "    Xtrain: 1D or 2D numpy array\n",
        "    y: 1D numpy array'''\n",
        "\n",
        "    self.Xtrain = Xtrain\n",
        "    self.ytrain = ytrain\n",
        "\n",
        "    # check if Xtrain is 1D or 2D array\n",
        "    if len((self.Xtrain).shape) == 1:\n",
        "      self.Xtrain = self.Xtrain.reshape(-1,1)\n",
        "\n",
        "    # add bias if fit_intercept is true\n",
        "    self.coef = inv(self.Xtrain.T.dot(self.Xtrain)).dot(self.Xtrain.T).dot(self.y)\n",
        "\n",
        "def perdict(self):\n",
        "  # check if Xtrain is 1D or 2D array\n",
        "  if len((self.Xtrain).shape) == 1:\n",
        "    self.Xtrain = self.Xtrain.reshape(-1,1)\n",
        "  \n",
        "  self.pred = self.Xtrain.dot(self.coef)\n",
        "  return self.pred\n",
        "\n",
        "def ptl.predicitons(self):\n",
        "  plt.scatter(self.Xtrain, self.ytrain)\n",
        "  plt.plot(self.Xtrain, self.pred, color='blue')\n",
        "  plt.show()\n",
        "\n",
        "\n",
        "  \n"
      ]
    },
    {
      "cell_type": "code",
      "source": [
        ""
      ],
      "metadata": {
        "id": "mQN3eseqC4Ib"
      },
      "execution_count": null,
      "outputs": []
    }
  ]
}